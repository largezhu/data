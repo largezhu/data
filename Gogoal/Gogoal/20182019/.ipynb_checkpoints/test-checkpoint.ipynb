{
 "cells": [
  {
   "cell_type": "code",
   "execution_count": 1,
   "metadata": {},
   "outputs": [],
   "source": [
    "import pandas as pd\n",
    "import numpy as np\n"
   ]
  },
  {
   "cell_type": "code",
   "execution_count": 4,
   "metadata": {
    "scrolled": true
   },
   "outputs": [
    {
     "name": "stdout",
     "output_type": "stream",
     "text": [
      "<class 'pandas.core.frame.DataFrame'>\n",
      "RangeIndex: 3564 entries, 0 to 3563\n",
      "Data columns (total 13 columns):\n",
      "Unnamed: 0          3564 non-null int64\n",
      "con_date            3564 non-null object\n",
      "score               3564 non-null float64\n",
      "score_roc_13week    3540 non-null float64\n",
      "score_roc_1week     3560 non-null float64\n",
      "score_roc_26week    3518 non-null float64\n",
      "score_roc_4week     3556 non-null float64\n",
      "score_roc_52week    3443 non-null float64\n",
      "stock_code          3564 non-null int64\n",
      "stock_name          3564 non-null object\n",
      "sumvalue_gz         3564 non-null float64\n",
      "sumvalue_sc         3564 non-null float64\n",
      "sumvalue_yj         3564 non-null float64\n",
      "dtypes: float64(9), int64(2), object(2)\n",
      "memory usage: 362.0+ KB\n"
     ]
    }
   ],
   "source": [
    "table=pd.read_excel('stock_score_all2018-11-30.xlsx')\n",
    "\n",
    "table.info()"
   ]
  },
  {
   "cell_type": "code",
   "execution_count": 6,
   "metadata": {
    "scrolled": true
   },
   "outputs": [
    {
     "data": {
      "text/html": [
       "<div>\n",
       "<style scoped>\n",
       "    .dataframe tbody tr th:only-of-type {\n",
       "        vertical-align: middle;\n",
       "    }\n",
       "\n",
       "    .dataframe tbody tr th {\n",
       "        vertical-align: top;\n",
       "    }\n",
       "\n",
       "    .dataframe thead th {\n",
       "        text-align: right;\n",
       "    }\n",
       "</style>\n",
       "<table border=\"1\" class=\"dataframe\">\n",
       "  <thead>\n",
       "    <tr style=\"text-align: right;\">\n",
       "      <th></th>\n",
       "      <th>Unnamed: 0</th>\n",
       "      <th>con_date</th>\n",
       "      <th>score</th>\n",
       "      <th>score_roc_13week</th>\n",
       "      <th>score_roc_1week</th>\n",
       "      <th>score_roc_26week</th>\n",
       "      <th>score_roc_4week</th>\n",
       "      <th>score_roc_52week</th>\n",
       "      <th>stock_code</th>\n",
       "      <th>stock_name</th>\n",
       "      <th>sumvalue_gz</th>\n",
       "      <th>sumvalue_sc</th>\n",
       "      <th>sumvalue_yj</th>\n",
       "    </tr>\n",
       "  </thead>\n",
       "  <tbody>\n",
       "    <tr>\n",
       "      <th>0</th>\n",
       "      <td>0</td>\n",
       "      <td>2018-11-30 00:00:00</td>\n",
       "      <td>61.15</td>\n",
       "      <td>-0.0317</td>\n",
       "      <td>0.0000</td>\n",
       "      <td>0.0969</td>\n",
       "      <td>-0.0947</td>\n",
       "      <td>-0.1066</td>\n",
       "      <td>1</td>\n",
       "      <td>平安银行</td>\n",
       "      <td>8.1</td>\n",
       "      <td>6.0</td>\n",
       "      <td>46.05</td>\n",
       "    </tr>\n",
       "    <tr>\n",
       "      <th>1</th>\n",
       "      <td>1</td>\n",
       "      <td>2018-11-30 00:00:00</td>\n",
       "      <td>72.20</td>\n",
       "      <td>0.2074</td>\n",
       "      <td>-0.0648</td>\n",
       "      <td>0.1721</td>\n",
       "      <td>0.0744</td>\n",
       "      <td>0.0728</td>\n",
       "      <td>2</td>\n",
       "      <td>万科A</td>\n",
       "      <td>8.1</td>\n",
       "      <td>6.0</td>\n",
       "      <td>57.10</td>\n",
       "    </tr>\n",
       "    <tr>\n",
       "      <th>2</th>\n",
       "      <td>2</td>\n",
       "      <td>2018-11-30 00:00:00</td>\n",
       "      <td>27.15</td>\n",
       "      <td>-0.1859</td>\n",
       "      <td>-0.1555</td>\n",
       "      <td>-0.4066</td>\n",
       "      <td>-0.1555</td>\n",
       "      <td>-0.3434</td>\n",
       "      <td>4</td>\n",
       "      <td>国农科技</td>\n",
       "      <td>2.7</td>\n",
       "      <td>3.0</td>\n",
       "      <td>21.45</td>\n",
       "    </tr>\n",
       "    <tr>\n",
       "      <th>3</th>\n",
       "      <td>3</td>\n",
       "      <td>2018-11-30 00:00:00</td>\n",
       "      <td>36.45</td>\n",
       "      <td>-0.1454</td>\n",
       "      <td>0.0000</td>\n",
       "      <td>-0.1725</td>\n",
       "      <td>0.0000</td>\n",
       "      <td>-0.1454</td>\n",
       "      <td>5</td>\n",
       "      <td>世纪星源</td>\n",
       "      <td>10.8</td>\n",
       "      <td>3.0</td>\n",
       "      <td>22.65</td>\n",
       "    </tr>\n",
       "    <tr>\n",
       "      <th>4</th>\n",
       "      <td>4</td>\n",
       "      <td>2018-11-30 00:00:00</td>\n",
       "      <td>45.45</td>\n",
       "      <td>-0.1335</td>\n",
       "      <td>-0.0991</td>\n",
       "      <td>-0.0883</td>\n",
       "      <td>0.0000</td>\n",
       "      <td>-0.3160</td>\n",
       "      <td>6</td>\n",
       "      <td>深振业A</td>\n",
       "      <td>10.8</td>\n",
       "      <td>3.0</td>\n",
       "      <td>31.65</td>\n",
       "    </tr>\n",
       "  </tbody>\n",
       "</table>\n",
       "</div>"
      ],
      "text/plain": [
       "   Unnamed: 0             con_date  score  score_roc_13week  score_roc_1week  \\\n",
       "0           0  2018-11-30 00:00:00  61.15           -0.0317           0.0000   \n",
       "1           1  2018-11-30 00:00:00  72.20            0.2074          -0.0648   \n",
       "2           2  2018-11-30 00:00:00  27.15           -0.1859          -0.1555   \n",
       "3           3  2018-11-30 00:00:00  36.45           -0.1454           0.0000   \n",
       "4           4  2018-11-30 00:00:00  45.45           -0.1335          -0.0991   \n",
       "\n",
       "   score_roc_26week  score_roc_4week  score_roc_52week  stock_code stock_name  \\\n",
       "0            0.0969          -0.0947           -0.1066           1       平安银行   \n",
       "1            0.1721           0.0744            0.0728           2        万科A   \n",
       "2           -0.4066          -0.1555           -0.3434           4       国农科技   \n",
       "3           -0.1725           0.0000           -0.1454           5       世纪星源   \n",
       "4           -0.0883           0.0000           -0.3160           6       深振业A   \n",
       "\n",
       "   sumvalue_gz  sumvalue_sc  sumvalue_yj  \n",
       "0          8.1          6.0        46.05  \n",
       "1          8.1          6.0        57.10  \n",
       "2          2.7          3.0        21.45  \n",
       "3         10.8          3.0        22.65  \n",
       "4         10.8          3.0        31.65  "
      ]
     },
     "execution_count": 6,
     "metadata": {},
     "output_type": "execute_result"
    }
   ],
   "source": [
    "table.head(5)"
   ]
  },
  {
   "cell_type": "code",
   "execution_count": 7,
   "metadata": {},
   "outputs": [
    {
     "data": {
      "text/plain": [
       "{'2018-11-30 00:00:00'}"
      ]
     },
     "execution_count": 7,
     "metadata": {},
     "output_type": "execute_result"
    }
   ],
   "source": [
    "set(table['con_date'])"
   ]
  },
  {
   "cell_type": "code",
   "execution_count": 10,
   "metadata": {},
   "outputs": [
    {
     "data": {
      "text/html": [
       "<div>\n",
       "<style scoped>\n",
       "    .dataframe tbody tr th:only-of-type {\n",
       "        vertical-align: middle;\n",
       "    }\n",
       "\n",
       "    .dataframe tbody tr th {\n",
       "        vertical-align: top;\n",
       "    }\n",
       "\n",
       "    .dataframe thead th {\n",
       "        text-align: right;\n",
       "    }\n",
       "</style>\n",
       "<table border=\"1\" class=\"dataframe\">\n",
       "  <thead>\n",
       "    <tr style=\"text-align: right;\">\n",
       "      <th></th>\n",
       "      <th>Unnamed: 0</th>\n",
       "      <th>con_date</th>\n",
       "      <th>score</th>\n",
       "      <th>score_roc_13week</th>\n",
       "      <th>score_roc_1week</th>\n",
       "      <th>score_roc_26week</th>\n",
       "      <th>score_roc_4week</th>\n",
       "      <th>score_roc_52week</th>\n",
       "      <th>stock_code</th>\n",
       "      <th>stock_name</th>\n",
       "      <th>sumvalue_gz</th>\n",
       "      <th>sumvalue_sc</th>\n",
       "      <th>sumvalue_yj</th>\n",
       "    </tr>\n",
       "  </thead>\n",
       "  <tbody>\n",
       "  </tbody>\n",
       "</table>\n",
       "</div>"
      ],
      "text/plain": [
       "Empty DataFrame\n",
       "Columns: [Unnamed: 0, con_date, score, score_roc_13week, score_roc_1week, score_roc_26week, score_roc_4week, score_roc_52week, stock_code, stock_name, sumvalue_gz, sumvalue_sc, sumvalue_yj]\n",
       "Index: []"
      ]
     },
     "execution_count": 10,
     "metadata": {},
     "output_type": "execute_result"
    }
   ],
   "source": [
    "table1=table[table['con_date']>='2018-12-01']\n",
    "table1"
   ]
  }
 ],
 "metadata": {
  "kernelspec": {
   "display_name": "Python 3",
   "language": "python",
   "name": "python3"
  },
  "language_info": {
   "codemirror_mode": {
    "name": "ipython",
    "version": 3
   },
   "file_extension": ".py",
   "mimetype": "text/x-python",
   "name": "python",
   "nbconvert_exporter": "python",
   "pygments_lexer": "ipython3",
   "version": "3.6.8"
  }
 },
 "nbformat": 4,
 "nbformat_minor": 2
}
